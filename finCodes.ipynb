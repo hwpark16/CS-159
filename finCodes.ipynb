{
 "cells": [
  {
   "cell_type": "code",
   "execution_count": 114,
   "metadata": {
    "collapsed": true
   },
   "outputs": [],
   "source": [
    "import matplotlib.pyplot as plt\n",
    "import numpy as np\n",
    "import scipy as sp\n",
    "from scipy.interpolate import CubicSpline\n",
    "import csv\n",
    "%matplotlib inline"
   ]
  },
  {
   "cell_type": "code",
   "execution_count": 115,
   "metadata": {
    "collapsed": false
   },
   "outputs": [],
   "source": [
    "#This code takes radius r as an input. It assumes that the radius positions are evenly spaced over a domain of length 1\n",
    "#It uses this information to simulate heat transfer in the fin\n",
    "#The outputs are the radius, temperature, volume, and heat transfer coefficient\n",
    "def findState(r):\n",
    "    #set up parameters\n",
    "    h = 20\n",
    "    k = 400\n",
    "    L = 1\n",
    "    r0 = 0.25\n",
    "    T0 = 500\n",
    "    Tinf = 200\n",
    "    #process input\n",
    "    N = len(r)\n",
    "    x = np.linspace(0,L,N)\n",
    "    dx = x[1]-x[0]\n",
    "    #Solve the problem\n",
    "    M = np.zeros((N,N))\n",
    "    f = np.zeros((N,1))\n",
    "    M[0,0] = 1\n",
    "    f[0,0] = T0\n",
    "    M[N-1,N-1] = 3/(2*dx)+h/k\n",
    "    M[N-1,N-2] = -2/dx\n",
    "    M[N-1,N-3] = 1/(2*dx)\n",
    "    f[N-1,0] = Tinf*h/k\n",
    "    for i in range(1,N-1):\n",
    "        M[i,i+1] = 0.5*r[i]/(dx**2)+0.25*(r[i+1]-r[i-1])/(dx**2);\n",
    "        M[i,i] = -r[i]/(dx**2)-h/k;\n",
    "        M[i,i-1] = 0.5*r[i]/(dx**2)-0.25*(r[i+1]-r[i-1])/(dx**2);\n",
    "        f[i,0] = -h*Tinf/k;\n",
    "    T = np.linalg.solve(M,f)\n",
    "    #Post process to find V and Q\n",
    "    A = np.pi*r**2;\n",
    "    Q = -k*A[0]*(-1.5*T[0]+2*T[1]-0.5*T[2])/dx;\n",
    "    V = np.trapz(A,x)\n",
    "    #output things\n",
    "    return r,T[:,0],Q[0],V"
   ]
  },
  {
   "cell_type": "code",
   "execution_count": 116,
   "metadata": {
    "collapsed": false
   },
   "outputs": [],
   "source": [
    "#this code generates a random radius profile\n",
    "#this radius can be used as a starting state for the system\n",
    "\n",
    "#input N is the integer number of points to return the value of the radius on\n",
    "#I think that 100 is a good starting value, but this is a hyperparameter that we should all try experimenting with\n",
    "def makeR(N):\n",
    "    n = np.random.randint(2,10)\n",
    "    r_max = 0.3\n",
    "    r_min = 0.03\n",
    "    xp = np.linspace(0,1,n)\n",
    "    rp = np.random.rand(n)*(r_max-r_min)+r_min\n",
    "    x = np.linspace(0,1,N)\n",
    "    rs = sp.interpolate.CubicSpline(xp,rp)\n",
    "    r = rs(x)\n",
    "    for i in range(0,N):\n",
    "        if(r[i]>(2*r_max)):\n",
    "            r[i]=2*r_max\n",
    "        elif(r[i]<(0.5*r_min)):\n",
    "            r[i]=0.5*r_min\n",
    "    return r"
   ]
  },
  {
   "cell_type": "code",
   "execution_count": null,
   "metadata": {
    "collapsed": true
   },
   "outputs": [],
   "source": []
  }
 ],
 "metadata": {
  "anaconda-cloud": {},
  "kernelspec": {
   "display_name": "Python [conda env:Anaconda3]",
   "language": "python",
   "name": "conda-env-Anaconda3-py"
  },
  "language_info": {
   "codemirror_mode": {
    "name": "ipython",
    "version": 3
   },
   "file_extension": ".py",
   "mimetype": "text/x-python",
   "name": "python",
   "nbconvert_exporter": "python",
   "pygments_lexer": "ipython3",
   "version": "3.5.2"
  }
 },
 "nbformat": 4,
 "nbformat_minor": 1
}
